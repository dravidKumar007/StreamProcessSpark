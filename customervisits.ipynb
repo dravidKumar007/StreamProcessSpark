﻿{
  "metadata": {
    "name": "i think working",
    "kernelspec": {
      "language": "scala",
      "name": "spark2-scala"
    },
    "language_info": {
      "codemirror_mode": "text/x-scala",
      "file_extension": ".scala",
      "mimetype": "text/x-scala",
      "name": "scala",
      "pygments_lexer": "scala"
    }
  },
  "nbformat": 4,
  "nbformat_minor": 2,
  "cells": [
    {
      "cell_type": "code",
      "execution_count": 0,
      "metadata": {
        "autoscroll": "auto"
      },
      "outputs": [],
      "source": "import org.apache.spark.sql.SparkSession\r\nimport org.apache.spark.streaming.{Seconds, StreamingContext}\r\nimport com.datastax.spark.connector._\r\nimport org.apache.kafka.common.serialization.StringDeserializer\r\nimport org.apache.spark.streaming.kafka010._\r\n\r\nval spark \u003d SparkSession.builder().getOrCreate() \r\nval ssc \u003d new StreamingContext(spark.sparkContext, Seconds(10)) "
    },
    {
      "cell_type": "code",
      "execution_count": 1,
      "metadata": {
        "autoscroll": "auto"
      },
      "outputs": [],
      "source": "val kafkaParams \u003d Map[String, Object](\r\n  \"bootstrap.servers\" -\u003e \"localhost:9092\",\r\n  \"key.deserializer\" -\u003e classOf[StringDeserializer],\r\n  \"value.deserializer\" -\u003e classOf[StringDeserializer],\r\n  \"group.id\" -\u003e \"kafka-to-cassandra-group\",\r\n  \"auto.offset.reset\" -\u003e \"latest\",\r\n  \"enable.auto.commit\" -\u003e (false: java.lang.Boolean)\r\n)\r\n\r\nval topics \u003d Array(\"userVisited\")\r\n"
    },
    {
      "cell_type": "code",
      "execution_count": 2,
      "metadata": {
        "autoscroll": "auto"
      },
      "outputs": [],
      "source": "val kafkaStream \u003d KafkaUtils.createDirectStream[String, String](\r\n  ssc,\r\n  LocationStrategies.PreferConsistent,\r\n  ConsumerStrategies.Subscribe[String, String](topics, kafkaParams)\r\n)"
    },
    {
      "cell_type": "code",
      "execution_count": 3,
      "metadata": {
        "autoscroll": "auto"
      },
      "outputs": [],
      "source": "kafkaStream.foreachRDD { rdd \u003d\u003e\r\n  val cassandraRDD \u003d rdd.map(record \u003d\u003e (record.key(), record.value(),1))\r\n  \r\n  cassandraRDD.saveToCassandra(\r\n    \"customervists\", \"customer_visits\", \r\n    SomeColumns(\"product_id\", \"customer_email\",\"visit_count\")\r\n  )\r\n}\r\n"
    },
    {
      "cell_type": "code",
      "execution_count": 4,
      "metadata": {
        "autoscroll": "auto"
      },
      "outputs": [],
      "source": "\r\n// Start Streaming Context\r\nssc.start()\r\nssc.awaitTermination()"
    }
  ]
}